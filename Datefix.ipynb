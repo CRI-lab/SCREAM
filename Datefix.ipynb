{
 "cells": [
  {
   "cell_type": "markdown",
   "metadata": {},
   "source": [
    "# adjusting dates in attribute table\n"
   ]
  },
  {
   "cell_type": "code",
   "execution_count": 1,
   "metadata": {},
   "outputs": [
    {
     "ename": "ModuleNotFoundError",
     "evalue": "No module named 'geopandas'",
     "output_type": "error",
     "traceback": [
      "\u001b[0;31m---------------------------------------------------------------------------\u001b[0m\n\u001b[0;31mModuleNotFoundError\u001b[0m                       Traceback (most recent call last)",
      "In  \u001b[0;34m[1]\u001b[0m:\nLine \u001b[0;34m4\u001b[0m:     \u001b[34mimport\u001b[39;49;00m \u001b[04m\u001b[36mgeopandas\u001b[39;49;00m \u001b[34mas\u001b[39;49;00m \u001b[04m\u001b[36mgpd\u001b[39;49;00m\n",
      "\u001b[0;31mModuleNotFoundError\u001b[0m: No module named 'geopandas'\n\u001b[0;31m---------------------------------------------------------------------------\u001b[0m"
     ]
    }
   ],
   "source": [
    "import numpy as np\n",
    "import pandas as pd\n",
    "import os\n",
    "import geopandas as gpd"
   ]
  },
  {
   "cell_type": "code",
   "execution_count": null,
   "metadata": {},
   "outputs": [],
   "source": [
    "# load the shapefile in as lw,\n",
    "datapath = \"F:\\LWM_withdatefix\\LWM_2021.shp\"\n",
    "lwm = gpd.read_file(datapath)\n",
    "\n",
    "lwm_fix = lwm.copy()\n",
    "lwm_fix['date_new'] = None\n",
    "dates_new = []"
   ]
  },
  {
   "cell_type": "code",
   "execution_count": null,
   "metadata": {},
   "outputs": [],
   "source": [
    "## Loop through dates to fix formatting\n",
    "for i in range(len(lwm)):\n",
    "    #print(f'\\r{i}', end='', flush=True) #print iteration\n",
    "\n",
    "    date = lwm.loc[i,'Date'] # subset date\n",
    "    date_len = len(date) # get length of date to help identify date format\n",
    "    \n",
    "    ### Replace / and - with underscore for consistent dates\n",
    "    if '/' in date:\n",
    "        date = date.replace(\"/\", \"_\")\n",
    "    elif '-' in date:\n",
    "        date = date.replace(\"-\", \"_\")\n",
    "\n",
    "    date_str = date\n",
    " ##################### loop through different date formats #####################\n",
    "    ##### Clean formats with YYYY or MM-DD-YYYY ######\n",
    "    if date_len == 4: # if length is 4, contains only year\n",
    "        date_str = date\n",
    "    elif date_len == 10: # if length is 10, contains date as MM_DD_YYYY\n",
    "        date_str = date\n",
    "    \n",
    "    ##### messier formats with missing leading zero or missing day: if len is between 4 and 10 ######\n",
    "    elif date_len > 4:  ##& (date_len > 4): \n",
    "        date_split = date\n",
    "\n",
    "        # first look at how many date entries there are (is it m-yyyy or m-d-yyyy)\n",
    "        #if string contains three entries: m-d-yyyy or m-dd-yyyy\n",
    "        if len(date_split.split('_')) == 3:\n",
    "            month,day,year = date_split.split('_')\n",
    "        #if string contains two entries there is no day: m-yyyy or mm-yyyy\n",
    "        if len(date_split.split('_')) == 2:\n",
    "            month, year = date_split.split('_')\n",
    "            day = \"01\" # assume a day of 01?\n",
    "\n",
    "        ### Add a leading zero to the month and date if they are only 1 character\n",
    "        if len(month) == 1: # if month is missing leading zero\n",
    "            month = \"0%s\" %month\n",
    "        elif len(month) == 3:\n",
    "            month = month[0:2]\n",
    "        else:\n",
    "            month = month\n",
    "        if len(day) < 2: # if day is missing leading zero\n",
    "            day = \"0%s\" %day\n",
    "        # ## If day is actually the year (in format mm-yyyy)\n",
    "        # if len(day) == 4:\n",
    "        #     year = day\n",
    "        #     month, day, year = month, '01', year\n",
    "\n",
    "        date_str = \"%s_%s_%s\" %(month, day, year)\n",
    "         #elif len(date) > 10: ### for 1 date dublicate mm-dd-yyyymm-dd-yyyy\n",
    "    #    date_str = date[0:10]\n",
    "    else: \n",
    "        print('unexpected date')\n",
    "        print(date)\n",
    "        \n",
    " #print(date, date_str)\n",
    "    #df.iloc[i,:]['Date'].replace(date_str,inplace = True) #replace date with new datestring\n",
    "    lwm.replace(lwm.loc[i,'Date'], date_str, regex=True, inplace = True)\n",
    "    #print(lwm.iloc[i,:]['Date'])\n",
    "    #print(lwm.iloc[7,:]['Date'])\n",
    "    dates_new.append(date_str)"
   ]
  },
  {
   "cell_type": "code",
   "execution_count": null,
   "metadata": {},
   "outputs": [],
   "source": [
    "lwm_fix['date_new'] = dates_new\n",
    "lwm['Date'] = dates_new\n",
    "\n",
    "\n",
    "#get your current working directory and save it as LWM_2021_datefix.shp \n",
    "output_path = \"F:\\LWM_withdatefix\\LWM_datefix_test.shp\"\n",
    "\n",
    "lwm.to_file(output_path)\n"
   ]
  }
 ],
 "metadata": {
  "kernelspec": {
   "display_name": "ArcGISPro",
   "language": "Python",
   "name": "python3"
  },
  "language_info": {
   "file_extension": ".py",
   "name": "python",
   "version": "3"
  }
 },
 "nbformat": 4,
 "nbformat_minor": 2
}
